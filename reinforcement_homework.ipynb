{
 "cells": [
  {
   "cell_type": "markdown",
   "metadata": {},
   "source": [
    "## Домашнее задание\n",
    "В рамках домашнего задания вам нужно применить Q-learning для решения задачи `CartPole-v0`.<br>\n",
    "К тому, что мы уже написали, нужно будет добавить:<br>\n",
    "* дискретизацию описания состояния\n",
    "* добавить к стратегии exploration\n",
    "\n",
    "hint: параметры exploration (epsilon или tau), а также скорость обучения alpha можно менять во время обучения.\n",
    "\n",
    "Максимум  за задание **8 баллов** <br>\n",
    "**3 балла** за корректную реализацию exploration и дискретизацию и работающее применение <br>\n",
    "**+2 балла** если получится достигнуть работы агента, при которой скользящее среднее по 100 эпизодам не падает ниже 100 <br>\n",
    "**+3 балла** если получится достигнуть скользящего среднего по 100 эпизодам 1000 и выше <br>\n",
    "(результат должен быть воспроизводим)\n",
    "\n",
    "Получилось ли добиться стабильного результата работы агента? Как думаете, почему?  \n",
    "\n",
    "\n",
    "1 компонента - горизонтальная координата<br>\n",
    "2 компонента - горизонтальная скорость<br>\n",
    "3 компонента - угол наклона<br>\n",
    "4 компонента - угловая скорость<br>\n",
    "\n",
    "Описание среды можно посмотреть тут:<br>\n",
    "https://gym.openai.com/envs/CartPole-v0/ <br>\n",
    "https://github.com/openai/gym/wiki/CartPole-v0"
   ]
  },
  {
   "cell_type": "markdown",
   "metadata": {},
   "source": [
    "### Решение"
   ]
  },
  {
   "cell_type": "markdown",
   "metadata": {},
   "source": [
    "#### Импортируем библиотеки и определяем функцию скользящего среднего"
   ]
  },
  {
   "cell_type": "code",
   "execution_count": 1,
   "metadata": {},
   "outputs": [],
   "source": [
    "import gym\n",
    "import numpy as np\n",
    "import matplotlib.pyplot as plt \n",
    "from time import sleep\n",
    "from IPython.display import clear_output\n",
    "import pandas as pd\n",
    "import math\n",
    "import pandas as pd\n",
    "\n",
    "#Скользящее среднее\n",
    "def moving_average(a, n=100) :\n",
    "    ret = np.cumsum(a, dtype=float)\n",
    "    ret[n:] = ret[n:] - ret[:-n]\n",
    "    result = np.concatenate([ret[:n-1] / (np.arange(n-1) + 1)  , ret[n-1:] / n])\n",
    "    return result"
   ]
  },
  {
   "cell_type": "code",
   "execution_count": 2,
   "metadata": {},
   "outputs": [],
   "source": [
    "env = gym.make('CartPole-v0').env"
   ]
  },
  {
   "cell_type": "code",
   "execution_count": 3,
   "metadata": {},
   "outputs": [
    {
     "data": {
      "text/plain": [
       "(Box(4,), Discrete(2))"
      ]
     },
     "execution_count": 3,
     "metadata": {},
     "output_type": "execute_result"
    }
   ],
   "source": [
    "env.observation_space, env.action_space"
   ]
  },
  {
   "cell_type": "code",
   "execution_count": 4,
   "metadata": {},
   "outputs": [
    {
     "data": {
      "text/plain": [
       "array([-3.51771714e-02,  9.35057747e-05,  4.07205920e-02, -2.21303508e-02])"
      ]
     },
     "execution_count": 4,
     "metadata": {},
     "output_type": "execute_result"
    }
   ],
   "source": [
    "env.reset()"
   ]
  },
  {
   "cell_type": "code",
   "execution_count": 5,
   "metadata": {},
   "outputs": [
    {
     "data": {
      "text/plain": [
       "(array([-4.8000002e+00, -3.4028235e+38, -4.1887903e-01, -3.4028235e+38],\n",
       "       dtype=float32),\n",
       " array([4.8000002e+00, 3.4028235e+38, 4.1887903e-01, 3.4028235e+38],\n",
       "       dtype=float32))"
      ]
     },
     "execution_count": 5,
     "metadata": {},
     "output_type": "execute_result"
    }
   ],
   "source": [
    "env.observation_space.low, env.observation_space.high"
   ]
  },
  {
   "cell_type": "code",
   "execution_count": 6,
   "metadata": {},
   "outputs": [
    {
     "data": {
      "text/plain": [
       "(array([-0.0351753 , -0.19558804,  0.04027799,  0.2831172 ]), 1.0, False, {})"
      ]
     },
     "execution_count": 6,
     "metadata": {},
     "output_type": "execute_result"
    }
   ],
   "source": [
    "state, reward, done, info = env.step(env.action_space.sample())\n",
    "state, reward, done, info"
   ]
  },
  {
   "cell_type": "code",
   "execution_count": 7,
   "metadata": {},
   "outputs": [
    {
     "data": {
      "text/plain": [
       "1"
      ]
     },
     "execution_count": 7,
     "metadata": {},
     "output_type": "execute_result"
    }
   ],
   "source": [
    "env.action_space.sample()"
   ]
  },
  {
   "cell_type": "code",
   "execution_count": 8,
   "metadata": {},
   "outputs": [
    {
     "name": "stdout",
     "output_type": "stream",
     "text": [
      "-0.02101321388155102 0.029039183484285108\n",
      "-0.04901663957340823 -0.0015206539071065048\n",
      "0.04821687995011302 0.005067933811566963\n",
      "-0.020909972570227878 -0.032336288643521824\n",
      "-0.044331290964254935 -0.020130500470880608\n",
      "0.006708753393846557 0.01952451571394906\n",
      "-0.011515961107605874 0.0039016713907496087\n",
      "-0.006387020206900497 0.03872922497988715\n",
      "0.015647627558950564 0.03917895906815705\n",
      "-0.04150791616973476 -0.00675509373259716\n",
      "0.028022249185065393 0.0007744709246036013\n",
      "-0.017570974533188587 -0.016331932163585597\n",
      "-0.012026938749779378 -0.027553496935180957\n",
      "-0.04809760110452296 -0.006290549391235113\n",
      "0.03535990896199778 0.011405197429101309\n",
      "0.0249130037047936 -0.04570198104846327\n",
      "-0.019931503099667125 -0.021185979252554867\n",
      "-0.023594209185836802 -0.018879109113559413\n",
      "0.0261572000427113 -0.03125784142513978\n",
      "0.04766797445229955 -0.03313462906590242\n",
      "0.006952966290274996 0.00750338484947817\n",
      "0.022284896239182783 0.03637290345740868\n",
      "0.002972060316348099 0.02672304575155278\n",
      "0.010838739484599715 0.04918243948929284\n",
      "0.014442338003216176 0.02350226584713587\n",
      "-0.03693062269596871 -0.0018125689911898668\n",
      "-0.041845248710914086 -0.03375725449489202\n",
      "-0.02274238597844728 -0.04531429087065171\n",
      "-0.029374229473119563 -0.042051160996743914\n",
      "-0.03274513241230184 0.025724208088819436\n",
      "-0.007150954307700408 -0.017785860817723147\n",
      "0.044642357022985815 0.0143532810018894\n",
      "-0.011156822870539443 -0.038047746826457646\n",
      "0.0004767831626511093 -0.01614682682839346\n",
      "0.021151504035917007 0.04388027293327368\n",
      "-0.04768677314958123 0.04510390115050043\n",
      "-0.027796048618536663 -0.04947487734373765\n",
      "-0.03856872633526104 0.027035733493266753\n",
      "0.0375919712351062 -0.03539709396618192\n",
      "0.033429511672441334 0.03469981702772916\n",
      "0.017545140863939435 -0.018322918486975315\n",
      "-0.029762472373940654 0.04290257953822037\n",
      "-0.01218730118228558 -0.02835608712471406\n",
      "0.035894289345055036 0.029848297591943004\n",
      "0.0072318979743174125 -0.035873653799791974\n",
      "0.014491814298671093 0.0488253378889323\n",
      "-0.012829823292812619 -0.0025605141129603076\n",
      "-0.03960110782571513 0.035558378469497234\n",
      "0.011297457674858166 0.01706965665200108\n",
      "-0.04939452156142885 0.02704145621399706\n",
      "0.033688674221598894 -0.0045410338499912856\n",
      "0.04032551447802511 0.04262790971040602\n",
      "-0.0011021178821156857 0.019120115516266203\n",
      "-0.004088455063696525 -0.04125657585427466\n",
      "0.046586569080056206 0.01862187775762826\n",
      "-0.02498286685529231 -0.006499720805126799\n",
      "0.017560769938709073 -0.028457991561393104\n",
      "0.013295126609507019 0.040462376120448826\n",
      "-0.036249815840343064 -0.04705731823347568\n",
      "0.01694913404251719 0.046200924350090655\n",
      "-0.022775853318749064 -0.0160558023761085\n",
      "0.013580398211236189 0.008064980825646204\n",
      "-0.016549296431632242 0.04928385731580616\n",
      "-0.023667337933192978 -0.035166749696448465\n",
      "-0.035763476640252936 0.0060926392217162464\n",
      "-0.02027375739721875 -0.04382860800901694\n",
      "-0.02236908170375214 0.00019740408127071063\n",
      "-0.047634159098553654 -0.04551875911969251\n",
      "-0.02536366425982317 0.044313021490361856\n",
      "0.01794063610176376 0.021348328561577007\n",
      "-0.04362244803162144 -0.01695877794077965\n",
      "0.018859570815756357 0.04026441865954605\n",
      "0.03145114787360259 0.01290836501278006\n",
      "-0.047917243766344736 0.016860610246941535\n",
      "0.04144724154599602 0.0195570250198127\n",
      "0.023106736673456058 0.027314717663782503\n",
      "-0.048653779841082725 -0.008271981060094503\n",
      "0.04495120533449745 -0.04240826430929665\n",
      "-0.021558139525947796 0.045131201198009716\n",
      "0.005652144684401596 0.013837592092131965\n",
      "0.04856534414629264 -0.04443157762341418\n",
      "-0.0034355553703651273 -0.02963495507283034\n",
      "-0.01488465168682445 0.03536282358290892\n",
      "-0.03077822571006308 -0.0048682763283902225\n",
      "0.01355723580106924 0.010057872366882978\n",
      "-0.002745302516086477 -0.03337373631996987\n",
      "-0.04376625732838794 -0.029142829637758383\n",
      "0.025167068906988083 -0.030184114470394287\n",
      "-0.041808146402296756 0.015463854790646714\n",
      "0.02118052247859767 0.011383563583522258\n",
      "-0.04078407408383608 -0.018260570980545787\n",
      "-0.013628608844372274 -0.02152179935062535\n",
      "-0.022111368846366122 -0.031776474992344414\n",
      "0.009959012622000926 -0.01881215493864511\n",
      "-0.02865866884420111 -0.005032028142093151\n",
      "-0.011890159185794669 -0.0005850713629135251\n",
      "0.03857391519716623 -0.046541284012171405\n",
      "0.027394474566373825 0.01811401620559061\n",
      "0.03242132190008587 -0.01492296342411479\n",
      "0.01830748343742264 -0.02510153216802178\n",
      "-0.04956549062768201 -0.04144373858762878\n",
      "0.008860693606530301 -0.0215373325464856\n",
      "-0.04605897606254797 -0.03262592522726081\n",
      "0.04202210759213425 -0.004643521735270641\n",
      "-0.041391445806066886 0.01228950132816553\n",
      "0.031953208526186785 0.04471717413569028\n",
      "-0.023913772229019716 0.00855721958678092\n",
      "-0.037313086909281125 -0.025238308429533486\n",
      "0.00978915595491673 -0.03830003612131375\n",
      "-0.03167950784124242 -0.013605762605428055\n",
      "0.00402085209919173 -0.005106309288860855\n",
      "0.005772049824046929 0.0013967972642114218\n",
      "-0.002120224449907296 0.03247690060950224\n",
      "0.04994933280632023 -0.03343888630756971\n",
      "0.022214168163592687 0.026858243258005968\n",
      "0.007690144010976438 -0.027305856559531595\n",
      "0.023368506402396072 0.049742812598658814\n",
      "0.006796311570437606 -0.028441090017659987\n",
      "0.019184552145127487 0.02771223393618187\n",
      "-0.018192825751717524 0.0409775180978834\n",
      "0.04084301404745362 -0.016060760518006943\n",
      "0.0151966490543127 -0.0252263074016979\n",
      "-0.04623806147137915 0.040668500559699644\n",
      "0.00751268390921702 -0.030947517770227907\n",
      "0.005707932021745868 -0.023272125921627997\n",
      "-0.04304011184225659 -0.044800439533037\n",
      "-0.005320875820782889 -0.019419380756087457\n",
      "-0.032585255911402856 -0.015538979907833109\n",
      "0.046192547541744386 -0.04294090790302059\n",
      "-0.04299171100401178 -0.03533650862095792\n",
      "0.03743737330034233 0.02457770534532913\n",
      "-0.03549925659345128 0.04895942618762132\n",
      "0.030737626666815607 0.04583302458408679\n",
      "0.008353481351859239 0.004181889916449542\n",
      "-0.011036580786434456 -0.02927030681442583\n",
      "0.02805110202586425 0.02543950126417198\n",
      "-0.023184660127466807 -0.009007634110845972\n",
      "0.04478303815400349 -0.048251143758681905\n",
      "0.014957727804626855 -0.017002353181188368\n",
      "-0.031520557261273924 -0.018582850571584784\n",
      "-0.03821081849803907 0.03981831746872942\n",
      "0.005473772452707984 -0.028905254609767075\n",
      "0.012117993940927128 -0.027823351945930764\n",
      "0.002690870833880407 -0.035351351698382896\n",
      "-0.04348331046904468 0.008565579191652128\n",
      "0.026421327183046225 -0.0336261600950636\n",
      "-0.01788439216491921 0.005785310016605337\n",
      "-0.0007403528818859112 0.0038237803929984104\n",
      "-0.04527723296017368 -0.018257032597766447\n",
      "0.041631044891735566 -0.049813281277233015\n",
      "0.001318678750521128 0.02326030895488368\n",
      "-0.011787576072402703 -0.03429114450153862\n",
      "0.041721268654691404 0.02554058022568033\n",
      "0.04867220480845699 -0.024819182233969728\n",
      "-0.001187553122302419 0.047786862880701816\n",
      "0.03887975630102161 0.0084250984892843\n",
      "0.025043990731234575 0.04662481850040519\n",
      "-0.0439537673305718 -0.04835792828443236\n",
      "-0.03387157971362062 -0.04570413602264564\n",
      "0.048130703401925365 0.043122584256889876\n",
      "-0.027440134784355343 0.03448379933078215\n",
      "-0.03346458119170756 -0.03134206477358002\n",
      "-0.008809984851346486 -0.0402936219312849\n",
      "0.036688210724017706 0.03785140712426753\n",
      "0.02526961654093761 0.04320514720730803\n",
      "0.03633862688039177 -0.019026497821582413\n",
      "0.04600983015658745 0.02386794769492888\n",
      "-0.024299192841238017 0.0015491656237100054\n",
      "0.04440608483473572 0.021742974611334967\n",
      "-0.02522623107168849 0.042325899606715386\n",
      "-0.0054438004403820975 0.027853949958702814\n",
      "-0.012306896282074577 0.01649157947331703\n",
      "-0.007158688973162353 -0.0352711145902085\n",
      "-0.029667176819225774 -0.01067323973040267\n",
      "-0.02800884514799297 -0.04431770263403241\n",
      "0.04083301675470999 0.019325152632062623\n",
      "-0.04697738128300988 0.0352183401113826\n",
      "-0.013343464640485171 -0.04203595936088028\n",
      "-0.01047897562937946 0.012816407858786141\n",
      "-0.008576156699568502 -0.018377238267870202\n",
      "0.008678041620863011 0.0010525281362988373\n",
      "-0.0239703927780057 0.03632458269006071\n",
      "-0.015785434493239527 -0.00047049247671716865\n",
      "-0.005058105207249142 0.038826388856328886\n",
      "-0.00837862650176837 -0.02388036963349043\n",
      "-0.0004958891069400187 0.027480279192655443\n",
      "-0.0034180526202440484 -0.03846239721546886\n",
      "-0.014208950587451162 -0.019590491545323885\n",
      "0.002817446163720018 0.02878561681850199\n",
      "0.02586283348483688 0.04367817657989406\n",
      "0.04895541434871306 -0.043216609892363526\n",
      "-0.009050398652919643 0.003237000202148843\n",
      "0.04781401603955514 -0.01142278903635767\n",
      "0.03803586561911872 -0.026241279333424006\n",
      "0.03692182043164133 0.005599413583454449\n",
      "0.009561073487297442 -0.011713094574369379\n",
      "0.014620406049127843 -0.0016250584868925944\n",
      "-0.04145005190906943 0.011135249355041218\n",
      "-0.03532693230692359 -0.026887361600238316\n",
      "-0.028566818558226917 0.004669727212957407\n"
     ]
    }
   ],
   "source": [
    "# Посмотрим, какие наиболее вероятные значения получаем в env.observation_space.high[0]\n",
    "# и env.observation_space.high[2] (Это справедливо, ведь мы можем сделать такую оценку, зная систему)\n",
    "# Это нужно для задания бакетов\n",
    "res = 0\n",
    "experiment_1 = []\n",
    "experiment_3 = []\n",
    "for res in range(200):\n",
    "    experiment = env.reset()\n",
    "    experiment_1.append(experiment[1])\n",
    "    experiment_3.append(experiment[3])\n",
    "    print(experiment[1], experiment[3])"
   ]
  },
  {
   "cell_type": "code",
   "execution_count": 9,
   "metadata": {},
   "outputs": [
    {
     "name": "stdout",
     "output_type": "stream",
     "text": [
      "-0.04956549062768201 0.04994933280632023\n"
     ]
    }
   ],
   "source": [
    "print(min(experiment_1), max(experiment_1))"
   ]
  },
  {
   "cell_type": "code",
   "execution_count": 10,
   "metadata": {},
   "outputs": [
    {
     "name": "stdout",
     "output_type": "stream",
     "text": [
      "-0.049813281277233015 0.049742812598658814\n"
     ]
    }
   ],
   "source": [
    "print(min(experiment_3), max(experiment_3))"
   ]
  },
  {
   "cell_type": "markdown",
   "metadata": {},
   "source": [
    "### Подход для среднего 100\n",
    "- Дискретизация по бакетам каждой из 4 непрерывных переменных\n",
    "- Exploration"
   ]
  },
  {
   "cell_type": "code",
   "execution_count": 11,
   "metadata": {},
   "outputs": [
    {
     "data": {
      "text/plain": [
       "3.4028235e+38"
      ]
     },
     "execution_count": 11,
     "metadata": {},
     "output_type": "execute_result"
    }
   ],
   "source": [
    "env.observation_space.high[3]"
   ]
  },
  {
   "cell_type": "code",
   "execution_count": 12,
   "metadata": {},
   "outputs": [],
   "source": [
    "#Найдем границы значений 4 переменных\n",
    "#1 и 3 могу принимать значения в большем диапазоне, сделаем макс и мин на свое усмотрение,\n",
    "#остальное помещаем в отдельный бакет\n",
    "up = [env.observation_space.high[0], 0.4, env.observation_space.high[2], 0.7]\n",
    "low = [env.observation_space.low[0], -0.4, env.observation_space.low[2], -0.7]"
   ]
  },
  {
   "cell_type": "code",
   "execution_count": 13,
   "metadata": {},
   "outputs": [
    {
     "data": {
      "text/plain": [
       "[4.8, 0.4, 0.41887903, 0.7]"
      ]
     },
     "execution_count": 13,
     "metadata": {},
     "output_type": "execute_result"
    }
   ],
   "source": [
    "up"
   ]
  },
  {
   "cell_type": "code",
   "execution_count": 14,
   "metadata": {},
   "outputs": [
    {
     "data": {
      "text/plain": [
       "[-4.8, -0.4, -0.41887903, -0.7]"
      ]
     },
     "execution_count": 14,
     "metadata": {},
     "output_type": "execute_result"
    }
   ],
   "source": [
    "low"
   ]
  },
  {
   "cell_type": "code",
   "execution_count": 15,
   "metadata": {},
   "outputs": [],
   "source": [
    "buckets = (6, 6, 8, 12,)\n",
    "episodes = 30000 + 1\n",
    "min_alpha = 0.1\n",
    "min_eps = 0.1\n",
    "gamma = 1.0\n",
    "Q = np.zeros(buckets + (env.action_space.n,))\n",
    "rewards_log = []"
   ]
  },
  {
   "cell_type": "code",
   "execution_count": 16,
   "metadata": {},
   "outputs": [
    {
     "name": "stdout",
     "output_type": "stream",
     "text": [
      "Episode    1  Total Reward:   14\n",
      "Episode 1000  Total Reward:   26\n",
      "Episode 2000  Total Reward:   25\n",
      "Episode 3000  Total Reward:   38\n",
      "Episode 4000  Total Reward:   34\n",
      "Episode 5000  Total Reward:  120\n",
      "Episode 6000  Total Reward:  768\n",
      "Episode 7000  Total Reward:  655\n",
      "Episode 8000  Total Reward:  285\n",
      "Episode 9000  Total Reward:  210\n",
      "Episode 10000  Total Reward:  198\n",
      "Episode 11000  Total Reward:  337\n",
      "Episode 12000  Total Reward:   79\n",
      "Episode 13000  Total Reward:  146\n",
      "Episode 14000  Total Reward:  195\n",
      "Episode 15000  Total Reward:  423\n",
      "Episode 16000  Total Reward:  172\n",
      "Episode 17000  Total Reward:  268\n",
      "Episode 18000  Total Reward:  188\n",
      "Episode 19000  Total Reward:  393\n",
      "Episode 20000  Total Reward:  711\n",
      "Episode 21000  Total Reward:  785\n",
      "Episode 22000  Total Reward:  727\n",
      "Episode 23000  Total Reward:  491\n",
      "Episode 24000  Total Reward:  287\n",
      "Episode 25000  Total Reward:  511\n",
      "Episode 26000  Total Reward:  143\n",
      "Episode 27000  Total Reward:  134\n",
      "Episode 28000  Total Reward:  731\n",
      "Episode 29000  Total Reward:  170\n",
      "Episode 30000  Total Reward:   90\n"
     ]
    }
   ],
   "source": [
    "for episode in range(1,episodes):\n",
    "    \n",
    "    done = False\n",
    "    total_reward = 0\n",
    "    \n",
    "    #Дискретизация----\n",
    "    state = env.reset()\n",
    "    proportion = []\n",
    "    bucket_state = []\n",
    "    for i in range(len(state)):\n",
    "        proportion.append((state[i] + abs(low[i])) / (up[i] - low[i])) #доля данного значения в общем\n",
    "        bucket_state.append(int(round((buckets[i] - 1) * proportion[i])))\n",
    "    state = tuple([min(buckets[i] - 1, max(0, bucket_state[i])) for i in range(len(state))])\n",
    "    #-----------------\n",
    "    \n",
    "    alpha = min_alpha\n",
    "    eps = min_eps\n",
    "    \n",
    "    while done != True:\n",
    "        \n",
    "        # Выбираем действие с exploration\n",
    "        if (np.random.random() <= eps):\n",
    "            action = env.action_space.sample()\n",
    "        else:\n",
    "            action = np.argmax(Q[state])\n",
    "        \n",
    "        # делаем шаг\n",
    "        state2, reward, done, info = env.step(action)\n",
    "        \n",
    "        #Дискретизация----\n",
    "        proportion2 = []\n",
    "        bucket_state2 = []\n",
    "        for i in range(len(state2)):\n",
    "            proportion2.append((state2[i] + abs(low[i])) / (up[i] - low[i])) #доля данного значения в общем\n",
    "            bucket_state2.append(int(round((buckets[i] - 1) * proportion2[i])))\n",
    "        state2 = tuple([min(buckets[i] - 1, max(0, bucket_state2[i])) for i in range(len(state2))])\n",
    "        #-----------------\n",
    "        \n",
    "        # дообучаем Q-значение\n",
    "        if not done:\n",
    "            Q[state][action] += alpha * (reward + gamma * np.max(Q[state2]) - Q[state][action])\n",
    "        else:\n",
    "            Q[state][action] += alpha * (reward - Q[state][action])\n",
    "            \n",
    "        total_reward += reward\n",
    "        total_reward = int(total_reward)\n",
    "        state = state2\n",
    "        \n",
    "    if episode % 1000 == 0 or episode == 1:\n",
    "        print(f'Episode {episode:4d}  Total Reward: {total_reward:4d}')\n",
    "    rewards_log.append(total_reward)"
   ]
  },
  {
   "cell_type": "code",
   "execution_count": 17,
   "metadata": {
    "scrolled": true
   },
   "outputs": [
    {
     "data": {
      "image/png": "[encoded data removed]",
      "text/plain": [
       "<Figure size 1080x288 with 1 Axes>"
      ]
     },
     "metadata": {
      "needs_background": "light"
     },
     "output_type": "display_data"
    }
   ],
   "source": [
    "%matplotlib inline\n",
    "fig, axs = plt.subplots(1, 1, figsize=(15, 4))\n",
    "axs.plot(moving_average(rewards_log))\n",
    "axs.set_title('total reward')\n",
    "plt.grid(True)\n",
    "plt.show()"
   ]
  },
  {
   "cell_type": "code",
   "execution_count": 18,
   "metadata": {},
   "outputs": [
    {
     "data": {
      "text/plain": [
       "116.64"
      ]
     },
     "execution_count": 18,
     "metadata": {},
     "output_type": "execute_result"
    }
   ],
   "source": [
    "min(moving_average(rewards_log)[10000:])"
   ]
  },
  {
   "cell_type": "markdown",
   "metadata": {},
   "source": [
    "### Вывод\n",
    "\n",
    "- Стабильного по скользящему среднему добиться удалось,\n",
    "- если считать стабильным превышение некого значения (100, 200)\n",
    "\n",
    "\n",
    "- В более общем понимании стабильности , то есть отсутствия скачков,\n",
    "- добиться не удалось\n",
    "- Нужно лучше подбирать параметры\n",
    "\n",
    "\n",
    "- Возможно, это связано с дискретизацией, так как мы все равно теряем таким образом некое количество информации\n",
    "- о системе, но по-другому никак\n",
    "- Либо с несовершенством подхода, так как мы заполняем Q table\n",
    "- Возможно, deep reinforcement learning решит данные проблемы, но это уже совсем другое дз..."
   ]
  },
  {
   "cell_type": "markdown",
   "metadata": {},
   "source": [
    "### Подход для среднего 1000 (Другой подход и попытка получить стабильно 1000)\n",
    "- Дискретизация по бакетам каждой из 4 непрерывных переменных\n",
    "- Exploration\n",
    "- Exploration и alpha меняем во время обучения\n",
    "- Задание для среднего 100 автоматически тут тоже выполняется с другим подходом"
   ]
  },
  {
   "cell_type": "markdown",
   "metadata": {},
   "source": [
    "### Тут загрузим все заново для удобства"
   ]
  },
  {
   "cell_type": "code",
   "execution_count": 19,
   "metadata": {},
   "outputs": [],
   "source": [
    "import gym\n",
    "import numpy as np\n",
    "import matplotlib.pyplot as plt \n",
    "from time import sleep\n",
    "from IPython.display import clear_output\n",
    "import pandas as pd\n",
    "import math\n",
    "import pandas as pd\n",
    "\n",
    "#Скользящее среднее\n",
    "def moving_average(a, n=100) :\n",
    "    ret = np.cumsum(a, dtype=float)\n",
    "    ret[n:] = ret[n:] - ret[:-n]\n",
    "    result = np.concatenate([ret[:n-1] / (np.arange(n-1) + 1)  , ret[n-1:] / n])\n",
    "    return result"
   ]
  },
  {
   "cell_type": "code",
   "execution_count": 20,
   "metadata": {},
   "outputs": [],
   "source": [
    "env = gym.make('CartPole-v0').env"
   ]
  },
  {
   "cell_type": "code",
   "execution_count": 21,
   "metadata": {},
   "outputs": [
    {
     "data": {
      "text/plain": [
       "(Box(4,), Discrete(2))"
      ]
     },
     "execution_count": 21,
     "metadata": {},
     "output_type": "execute_result"
    }
   ],
   "source": [
    "env.observation_space, env.action_space"
   ]
  },
  {
   "cell_type": "code",
   "execution_count": 22,
   "metadata": {},
   "outputs": [
    {
     "data": {
      "text/plain": [
       "array([ 0.00120278, -0.02748166,  0.01278382, -0.02544829])"
      ]
     },
     "execution_count": 22,
     "metadata": {},
     "output_type": "execute_result"
    }
   ],
   "source": [
    "env.reset()"
   ]
  },
  {
   "cell_type": "code",
   "execution_count": 23,
   "metadata": {},
   "outputs": [
    {
     "data": {
      "text/plain": [
       "(array([-4.8000002e+00, -3.4028235e+38, -4.1887903e-01, -3.4028235e+38],\n",
       "       dtype=float32),\n",
       " array([4.8000002e+00, 3.4028235e+38, 4.1887903e-01, 3.4028235e+38],\n",
       "       dtype=float32))"
      ]
     },
     "execution_count": 23,
     "metadata": {},
     "output_type": "execute_result"
    }
   ],
   "source": [
    "env.observation_space.low, env.observation_space.high"
   ]
  },
  {
   "cell_type": "code",
   "execution_count": 24,
   "metadata": {},
   "outputs": [
    {
     "data": {
      "text/plain": [
       "(array([ 0.00065315,  0.16745465,  0.01227486, -0.31407052]), 1.0, False, {})"
      ]
     },
     "execution_count": 24,
     "metadata": {},
     "output_type": "execute_result"
    }
   ],
   "source": [
    "state, reward, done, info = env.step(env.action_space.sample())\n",
    "state, reward, done, info"
   ]
  },
  {
   "cell_type": "code",
   "execution_count": 25,
   "metadata": {},
   "outputs": [
    {
     "data": {
      "text/plain": [
       "0"
      ]
     },
     "execution_count": 25,
     "metadata": {},
     "output_type": "execute_result"
    }
   ],
   "source": [
    "env.action_space.sample()"
   ]
  },
  {
   "cell_type": "code",
   "execution_count": 26,
   "metadata": {},
   "outputs": [],
   "source": [
    "#Найдем границы значений 4 переменных\n",
    "#1 и 3 могу принимать значения в большем диапазоне, сделаем макс и мин на свое усмотрение,\n",
    "#остальное помещаем в отдельный бакет\n",
    "up = [env.observation_space.high[0], 0.4, env.observation_space.high[2], 0.7]\n",
    "low = [env.observation_space.low[0], -0.4, env.observation_space.low[2], -0.7]"
   ]
  },
  {
   "cell_type": "code",
   "execution_count": 27,
   "metadata": {},
   "outputs": [],
   "source": [
    "buckets = (6, 6, 8, 12,)\n",
    "episodes = 30000 + 1\n",
    "min_alpha = 0.1\n",
    "min_eps = 0.1\n",
    "gamma = 1.0\n",
    "Q = np.zeros(buckets + (env.action_space.n,))\n",
    "rewards_log = []"
   ]
  },
  {
   "cell_type": "code",
   "execution_count": 28,
   "metadata": {},
   "outputs": [
    {
     "name": "stdout",
     "output_type": "stream",
     "text": [
      "Episode    1  Total Reward:   24\n",
      "Episode 1000  Total Reward:   63\n",
      "Episode 2000  Total Reward:   26\n",
      "Episode 3000  Total Reward:  318\n",
      "Episode 4000  Total Reward:  238\n",
      "Episode 5000  Total Reward:   47\n",
      "Episode 6000  Total Reward:  289\n",
      "Episode 7000  Total Reward:  749\n",
      "Episode 8000  Total Reward:  570\n",
      "Episode 9000  Total Reward: 1534\n",
      "Episode 10000  Total Reward:  156\n",
      "Episode 11000  Total Reward:   45\n",
      "Episode 12000  Total Reward:  208\n",
      "Episode 13000  Total Reward:   33\n",
      "Episode 14000  Total Reward:  522\n",
      "Episode 15000  Total Reward:  237\n",
      "Episode 16000  Total Reward:  191\n",
      "Episode 17000  Total Reward:  628\n",
      "Episode 18000  Total Reward:  101\n",
      "Episode 19000  Total Reward:  129\n",
      "Episode 20000  Total Reward: 1346\n",
      "Episode 21000  Total Reward: 1626\n",
      "Episode 22000  Total Reward:  514\n",
      "Episode 23000  Total Reward:  126\n",
      "Episode 24000  Total Reward:  210\n",
      "Episode 25000  Total Reward:  111\n",
      "Episode 26000  Total Reward: 1217\n",
      "Episode 27000  Total Reward:  262\n",
      "Episode 28000  Total Reward:  271\n",
      "Episode 29000  Total Reward:  221\n",
      "Episode 30000  Total Reward:  138\n"
     ]
    }
   ],
   "source": [
    "for episode in range(1,episodes):\n",
    "    \n",
    "    done = False\n",
    "    total_reward = 0\n",
    "    \n",
    "    #Дискретизация----\n",
    "    state = env.reset()\n",
    "    proportion = []\n",
    "    bucket_state = []\n",
    "    for i in range(len(state)):\n",
    "        proportion.append((state[i] + abs(low[i])) / (up[i] - low[i])) #доля данного значения в общем\n",
    "        bucket_state.append(int(round((buckets[i] - 1) * proportion[i])))\n",
    "    state = tuple([min(buckets[i] - 1, max(0, bucket_state[i])) for i in range(len(state))])\n",
    "    #-----------------\n",
    "    \n",
    "    alpha = max(min_alpha, min(1.0, 1.0 - math.log10((episode + 1) / 25)))\n",
    "    eps = max(min_eps, min(1, 1.0 - math.log10((episode + 1) / 25)))\n",
    "    \n",
    "    while done != True:\n",
    "        \n",
    "        # Выбираем действие с exploration\n",
    "        if (np.random.random() <= eps):\n",
    "            action = env.action_space.sample()\n",
    "        else:\n",
    "            action = np.argmax(Q[state])\n",
    "        \n",
    "        # делаем шаг\n",
    "        state2, reward, done, info = env.step(action)\n",
    "        \n",
    "        #Дискретизация----\n",
    "        proportion2 = []\n",
    "        bucket_state2 = []\n",
    "        for i in range(len(state2)):\n",
    "            proportion2.append((state2[i] + abs(low[i])) / (up[i] - low[i])) #доля данного значения в общем\n",
    "            bucket_state2.append(int(round((buckets[i] - 1) * proportion2[i])))\n",
    "        state2 = tuple([min(buckets[i] - 1, max(0, bucket_state2[i])) for i in range(len(state2))])\n",
    "        #-----------------\n",
    "        \n",
    "        # дообучаем Q-значение\n",
    "        if not done:\n",
    "            Q[state][action] += alpha * (reward + gamma * np.max(Q[state2]) - Q[state][action])\n",
    "        else:\n",
    "            Q[state][action] += alpha * (reward - Q[state][action])\n",
    "            \n",
    "        total_reward += reward\n",
    "        total_reward = int(total_reward)\n",
    "        state = state2\n",
    "        \n",
    "    if episode % 1000 == 0 or episode == 1:\n",
    "        print(f'Episode {episode:4d}  Total Reward: {total_reward:4d}')\n",
    "    rewards_log.append(total_reward)"
   ]
  },
  {
   "cell_type": "code",
   "execution_count": 29,
   "metadata": {},
   "outputs": [
    {
     "data": {
      "image/png": "[encoded data removed]",
      "text/plain": [
       "<Figure size 1080x288 with 1 Axes>"
      ]
     },
     "metadata": {
      "needs_background": "light"
     },
     "output_type": "display_data"
    }
   ],
   "source": [
    "%matplotlib inline\n",
    "fig, axs = plt.subplots(1, 1, figsize=(15, 4))\n",
    "axs.plot(moving_average(rewards_log))\n",
    "axs.set_title('total reward')\n",
    "plt.grid(True)\n",
    "plt.show()"
   ]
  },
  {
   "cell_type": "code",
   "execution_count": 30,
   "metadata": {},
   "outputs": [
    {
     "data": {
      "text/plain": [
       "110.36"
      ]
     },
     "execution_count": 30,
     "metadata": {},
     "output_type": "execute_result"
    }
   ],
   "source": [
    "min(moving_average(rewards_log)[10000:])"
   ]
  },
  {
   "cell_type": "code",
   "execution_count": 31,
   "metadata": {},
   "outputs": [
    {
     "data": {
      "text/plain": [
       "3224.95"
      ]
     },
     "execution_count": 31,
     "metadata": {},
     "output_type": "execute_result"
    }
   ],
   "source": [
    "max(moving_average(rewards_log)[10000:])"
   ]
  },
  {
   "cell_type": "markdown",
   "metadata": {},
   "source": [
    "### Вывод\n",
    "\n",
    "##### В пиках получить 1000 возможно как в предыдущем методе, так и в этом\n",
    "\n",
    "- Стабильного по скользящему среднему добиться удалось,\n",
    "- если считать стабильным превышение некого значения (100, 200, в пиках 1000)\n",
    "\n",
    "\n",
    "- В более общем понимании стабильности , то есть отсутствия скачков,\n",
    "- добиться не удалось\n",
    "- Нужно лучше подбирать параметры\n",
    "\n",
    "\n",
    "- Возможно, это связано с дискретизацией, так как мы все равно теряем таким образом некое количество информации\n",
    "- о системе, но по-другому никак\n",
    "- Либо с несовершенством подхода, так как мы заполняем Q table\n",
    "- Возможно, deep reinforcement learning решит данные проблемы, но это уже совсем другое дз..."
   ]
  }
 ],
 "metadata": {
  "kernelspec": {
   "display_name": "Python 3",
   "language": "python",
   "name": "python3"
  },
  "language_info": {
   "codemirror_mode": {
    "name": "ipython",
    "version": 3
   },
   "file_extension": ".py",
   "mimetype": "text/x-python",
   "name": "python",
   "nbconvert_exporter": "python",
   "pygments_lexer": "ipython3",
   "version": "3.6.6"
  }
 },
 "nbformat": 4,
 "nbformat_minor": 2
}
